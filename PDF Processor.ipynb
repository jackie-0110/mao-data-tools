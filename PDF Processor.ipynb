{
 "cells": [
  {
   "cell_type": "code",
   "execution_count": null,
   "id": "98299369",
   "metadata": {},
   "outputs": [],
   "source": [
    "pip install -U -q \"google-generativeai\"\n",
    "pip install -U -q \"PyPDF2\"\n",
    "pip install -U -q \"pdfplumber\""
   ]
  }
 ],
 "metadata": {
  "language_info": {
   "name": "python"
  }
 },
 "nbformat": 4,
 "nbformat_minor": 5
}
